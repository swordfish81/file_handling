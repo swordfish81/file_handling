{
 "cells": [
  {
   "cell_type": "code",
   "execution_count": 1,
   "id": "7c0d4909",
   "metadata": {},
   "outputs": [],
   "source": [
    "from pathlib import Path"
   ]
  },
  {
   "cell_type": "code",
   "execution_count": 2,
   "id": "8e56f651",
   "metadata": {},
   "outputs": [
    {
     "data": {
      "text/plain": [
       "[WindowsPath('XA2.txt'), WindowsPath('XA3.txt'), WindowsPath('XA72.txt')]"
      ]
     },
     "execution_count": 2,
     "metadata": {},
     "output_type": "execute_result"
    }
   ],
   "source": [
    "result = list(Path(\".\").rglob(\"*.[tT][xX][tT]\"))\n",
    "result"
   ]
  },
  {
   "cell_type": "code",
   "execution_count": 3,
   "id": "690a9567",
   "metadata": {},
   "outputs": [],
   "source": [
    "import glob"
   ]
  },
  {
   "cell_type": "code",
   "execution_count": 4,
   "id": "f8f1dd4b",
   "metadata": {},
   "outputs": [],
   "source": [
    "my_path = r'D:\\CFA-ESG'\n",
    "files = glob.glob(my_path + '/**/2021-Chapter*.pdf', recursive=True)"
   ]
  },
  {
   "cell_type": "code",
   "execution_count": 5,
   "id": "dedf1816",
   "metadata": {},
   "outputs": [
    {
     "data": {
      "text/plain": [
       "['D:\\\\CFA-ESG\\\\Syllabus\\\\2021-Chapter1.pdf',\n",
       " 'D:\\\\CFA-ESG\\\\Syllabus\\\\2021-Chapter2.pdf',\n",
       " 'D:\\\\CFA-ESG\\\\Syllabus\\\\2021-Chapter3.pdf',\n",
       " 'D:\\\\CFA-ESG\\\\Syllabus\\\\2021-Chapter4.pdf',\n",
       " 'D:\\\\CFA-ESG\\\\Syllabus\\\\2021-Chapter5.pdf',\n",
       " 'D:\\\\CFA-ESG\\\\Syllabus\\\\2021-Chapter6.pdf',\n",
       " 'D:\\\\CFA-ESG\\\\Syllabus\\\\2021-Chapter7.pdf',\n",
       " 'D:\\\\CFA-ESG\\\\Syllabus\\\\2021-Chapter8.pdf',\n",
       " 'D:\\\\CFA-ESG\\\\Syllabus\\\\2021-Chapter9.pdf']"
      ]
     },
     "execution_count": 5,
     "metadata": {},
     "output_type": "execute_result"
    }
   ],
   "source": [
    "files"
   ]
  },
  {
   "cell_type": "code",
   "execution_count": 6,
   "id": "314f1239",
   "metadata": {},
   "outputs": [
    {
     "name": "stdout",
     "output_type": "stream",
     "text": [
      "Chapter 1 – Introduction to ESG Investing\n",
      "The TBL accounting theory expands the traditional accounting framework focused only on profit to include two \n",
      "R  1 other performance areas: the social and environmental impacts of a company. These three bottom lines are \n",
      "E often referred to as the three Ps: \n",
      "T\n",
      "P\n",
      "A\n",
      "H 1. people;\n",
      "C\n",
      "2. planet; and \n",
      "3. profit.\n",
      "While the term and concept are useful to know, including for historical reasons, they have been replaced in the \n",
      "industry with a broader framework of sustainability that is not restricted to accounting. \n",
      "Effective management of the company’s sustainability can: \n",
      "▶  reaffirm the company’s license to operate in the eyes of governments and civil society;\n",
      "▶  increase efficiency; \n",
      "▶  attend to increasing regulatory requirements;\n",
      "▶  reduce the probability of fines; \n",
      "▶  improve employee satisfaction and productivity; and\n",
      "▶  drive innovation and introduce new product lines. \n",
      "ESG investing recognises these benefits and aims to consider them in the context of security/asset selection \n",
      "and portfolio construction.\n",
      "There are many organisations and institutions contributing to the further exploration of interactions between \n",
      "society, environment, governance and investment. This curriculum focuses on how professionals in the \n",
      "investment industry can better understand, assess and integrate ESG issues when conducting stock selection, \n",
      "portfolio construction and engaging with companies. \n",
      "2.   TYPES OF RESPONSIBLE INVESTMENT\n",
      "1.1.3 Define different approaches to ESG investing, their characteristics and the role that ESG plays in each of \n",
      "them: responsible investment; socially responsible investment (SRI); sustainable investment; best-in-\n",
      "class investment; ethical/values-driven investment; thematic investment; impact investment; green \n",
      "investment; social investment; shareholder engagement.\n",
      "ESG investing is part of a group of approaches collectively referred to as responsible investment. While \n",
      "ESG investing is concerned with how ESG issues can impact the long-term return of assets and securities, \n",
      "other responsible investment approaches can also take into account non-financial value creation and \n",
      "reflects stakeholder values in an investment strategy. While there is no standard set of criteria for identifying \n",
      "responsible investment, the main investment approaches are presented in this section to demonstrate the \n",
      "wide spectrum of different types of responsible investment. \n",
      "Responsible investment is an umbrella term for the various ways in which investors can consider ESG within \n",
      "security selection and portfolio construction. As such, it may combine financial with non-financial outcomes \n",
      "and complements traditional financial analysis and portfolio construction techniques.\n",
      "All forms of responsible investment, except for engagement, are ultimately related to portfolio construction (in \n",
      "other words, which securities a fund holds). Engagement, both by equity owners and bond holders, concerns \n",
      "whether and how an investor tries to encourage and influence an issuer’s behaviour on ESG matters. There is \n",
      "no standard classification in the industry; the types of responsible investment overlap and evolve over time. \n",
      "Figure 1.2 illustrates some of the conceptual differences between these approaches and how they range from \n",
      "strictly ‘finance-only’ investment, with no consideration of ESG factors, to the other end of the spectrum, where \n",
      "6\n"
     ]
    }
   ],
   "source": [
    "import pdfplumber\n",
    "with pdfplumber.open(files[0]) as temp:\n",
    "    #print(temp)\n",
    "    first_page = temp.pages[4]\n",
    "    print(first_page.extract_text())"
   ]
  },
  {
   "cell_type": "code",
   "execution_count": 7,
   "id": "40dbc2fe",
   "metadata": {},
   "outputs": [
    {
     "name": "stdout",
     "output_type": "stream",
     "text": [
      "D:\\CFA-ESG\\Syllabus\\2021-Chapter1.pdf : 52\n",
      "D:\\CFA-ESG\\Syllabus\\2021-Chapter2.pdf : 40\n",
      "D:\\CFA-ESG\\Syllabus\\2021-Chapter3.pdf : 96\n",
      "D:\\CFA-ESG\\Syllabus\\2021-Chapter4.pdf : 36\n",
      "D:\\CFA-ESG\\Syllabus\\2021-Chapter5.pdf : 46\n",
      "D:\\CFA-ESG\\Syllabus\\2021-Chapter6.pdf : 42\n",
      "D:\\CFA-ESG\\Syllabus\\2021-Chapter7.pdf : 80\n",
      "D:\\CFA-ESG\\Syllabus\\2021-Chapter8.pdf : 96\n",
      "D:\\CFA-ESG\\Syllabus\\2021-Chapter9.pdf : 44\n"
     ]
    }
   ],
   "source": [
    "import PyPDF2\n",
    "\n",
    "for f in files:\n",
    "    file = open(f, 'rb')\n",
    "    readpdf = PyPDF2.PdfFileReader(file)\n",
    "    totalpages = readpdf.numPages\n",
    "    print(f,\":\",totalpages)"
   ]
  },
  {
   "cell_type": "code",
   "execution_count": 8,
   "id": "7ba3dda2",
   "metadata": {},
   "outputs": [],
   "source": [
    "import re"
   ]
  },
  {
   "cell_type": "code",
   "execution_count": 9,
   "id": "b36fdd87",
   "metadata": {},
   "outputs": [
    {
     "name": "stdout",
     "output_type": "stream",
     "text": [
      "Pattern Found on Page: 36\n"
     ]
    }
   ],
   "source": [
    "# Open the pdf file\n",
    "file = open(files[1], 'rb')\n",
    "object = PyPDF2.PdfFileReader(file)\n",
    "\n",
    "# Get number of pages\n",
    "NumPages = object.getNumPages()\n",
    "\n",
    "# Enter code here\n",
    "String = \"FURTHER READING\"\n",
    "\n",
    "# Extract text and do the search\n",
    "for i in range(0, NumPages):\n",
    "    PageObj = object.getPage(i)\n",
    "    Text = PageObj.extractText()\n",
    "    if re.search(String,Text):\n",
    "         print(\"Pattern Found on Page: \" + str(i))"
   ]
  },
  {
   "cell_type": "code",
   "execution_count": 10,
   "id": "510778e4",
   "metadata": {
    "scrolled": false
   },
   "outputs": [
    {
     "name": "stdout",
     "output_type": "stream",
     "text": [
      "********************************************************************************\n",
      "********************************************************************************\n"
     ]
    }
   ],
   "source": [
    "import io\n",
    "pages = []\n",
    "\n",
    "for i in range(36, 38):\n",
    "    this_page = object.getPage(i).extractText()\n",
    "    pages.append(this_page)\n",
    "for page in pages:\n",
    "    print('*' * 80)\n",
    "    content = page.replace('www.','http://www.')\n",
    "    #print(content)"
   ]
  },
  {
   "cell_type": "code",
   "execution_count": 11,
   "id": "5001947a",
   "metadata": {},
   "outputs": [
    {
     "data": {
      "text/plain": [
       "['91END NOTES',\n",
       " '1  Renneboog, L., Ter Horst, J. and Zhang, C. (2008). ﬁSocially responsible investments: Institutional ',\n",
       " 'aspects, performance, and investor behavior.ﬂ ',\n",
       " 'Journal of Banking & Finance',\n",
       " ', 32(9), pp.1723Œ1742. ',\n",
       " ' Available at: ',\n",
       " 'http://www.sciencedirect.com/science/article/abs/pii/S0378426607004220',\n",
       " ' 2  IMPAX Asset Management (2021). ',\n",
       " 'History',\n",
       " '. Available at:  ',\n",
       " 'https://impaxam.com/about-us/history/',\n",
       " ' 3  Global Sustainable Investment Alliance (2018). 2018 ',\n",
       " 'Global Sustainable Investment Review',\n",
       " '.  Available at: ',\n",
       " 'http://www.gsi-alliance.org/wp-content/uploads/2019/06/GSIR_Review2018F.pdf',\n",
       " ' and Global ',\n",
       " 'Sustainable Investment Alliance (GSIA) (2012). ',\n",
       " '2012 Global Sustainable Investment Review',\n",
       " '. Available at: ',\n",
       " 'http://gsiareview2012.gsi-alliance.org/pubData/source/Global%20Sustainable%20Investement%20',\n",
       " 'Alliance.pdf',\n",
       " '4  PRI (2016). How asset owners can drive responsible investment Œ beliefs, strategies and mandates.',\n",
       " ' Available at: ',\n",
       " 'http://www.unpri.org/download?ac=1398',\n",
       " '5  Willis Towers Watson (2019). ',\n",
       " 'Largest asset owners are critical to aiding society™s biggest issues',\n",
       " '. Available at: ',\n",
       " 'http://www.willistowerswatson.com/en-SG/News/2019/11/largest-asset-owners-are-critical-to-',\n",
       " 'aiding-societys-biggest-issues',\n",
       " ' 6  BlackRock (2014). ',\n",
       " 'Who Owns the Assets? Developing a Better Understanding of the Flow of Assets ',\n",
       " 'and the Implications for Financial Regulation',\n",
       " '. Available at: ',\n",
       " 'http://www.blackrock.com/corporate/literature/',\n",
       " 'whitepaper/viewpoint-who-owns-the-assets-may-2014.pdf',\n",
       " ' 7  Department for Business, Innovation & Skills (2011). ',\n",
       " 'Consultation outcome: Kay review of UK equity ',\n",
       " 'markets and long-term decision making',\n",
       " '. Available at: ',\n",
       " 'http://www.gov.uk/government/consultations/the-kay-',\n",
       " 'review-of-uk-equity-markets-and-long-term-decision-making',\n",
       " ' 8  Government Pension Investment Fund (2021). ',\n",
       " 'ESG webpage',\n",
       " '.  Available at: ',\n",
       " 'http://www.gpif.go.jp/en/investment/esg/',\n",
       " '9  Brunel Pension Partnership (2018). ',\n",
       " 'Brunel launches pioneering Asset Management Accord',\n",
       " '.  Available at: ',\n",
       " 'http://www.brunelpensionpartnership.org/2018/11/29/brunel-launches-pioneering-asset-',\n",
       " 'management-accord',\n",
       " ' 10  Financial Times (2018). Pension funds warned of legal action over climate risk',\n",
       " '.  Available at: ',\n",
       " 'http://www.˚.com/content/48dfa43e-4219-3001-a71a-aae47185fd03',\n",
       " ' 11  Pensions & Investments (2019). ',\n",
       " 'Institutional investors see ESG as part of their fiduciary duty Œ survey',\n",
       " '. Available at: ',\n",
       " 'http://www.pionline.com/esg/institutional-investors-see-esg-part-their-fiduciary-duty-survey',\n",
       " ' 12  IPE (2018). Dutch schemes fine-tune ESG investments following member feedback',\n",
       " '.  Available at: ',\n",
       " 'http://www.ipe.com/dutch-schemes-fine-tune-esg-investments-following-member-',\n",
       " 'feedback/10027711.article',\n",
       " ' 13  Stern, N. (2007). ',\n",
       " 'Stern Review: The Economics of Climate Change',\n",
       " '. Available at: ',\n",
       " 'https://webarchive.',\n",
       " 'nationalarchives.gov.uk/20100407172811/http://http://www.hm-treasury.gov.uk/stern_review_report.htm',\n",
       " '  14  PSI Principles for Sustainable Insurance (2018). ',\n",
       " 'The Tobacco-Free Finance Pledge.',\n",
       " '  Available at: ',\n",
       " 'http://www.unepfi.org/psi/tobacco-free-finance-pledge/',\n",
       " ' ']"
      ]
     },
     "execution_count": 11,
     "metadata": {},
     "output_type": "execute_result"
    }
   ],
   "source": [
    "content.split('\\n')"
   ]
  },
  {
   "cell_type": "code",
   "execution_count": null,
   "id": "ddd50954",
   "metadata": {},
   "outputs": [],
   "source": []
  }
 ],
 "metadata": {
  "kernelspec": {
   "display_name": "Python 3 (ipykernel)",
   "language": "python",
   "name": "python3"
  },
  "language_info": {
   "codemirror_mode": {
    "name": "ipython",
    "version": 3
   },
   "file_extension": ".py",
   "mimetype": "text/x-python",
   "name": "python",
   "nbconvert_exporter": "python",
   "pygments_lexer": "ipython3",
   "version": "3.10.1"
  }
 },
 "nbformat": 4,
 "nbformat_minor": 5
}
